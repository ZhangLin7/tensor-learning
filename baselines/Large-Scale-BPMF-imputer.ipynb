{
 "cells": [
  {
   "cell_type": "markdown",
   "metadata": {},
   "source": [
    "# About this Notebook\n",
    "\n",
    "Bayesian probabilistic matrix factorization (BPMF) is a classical model in the recommender system field. In the following, we will discuss:\n",
    "\n",
    "- What the BPMF is?\n",
    "\n",
    "- How to implement BPMF mainly using Python `Numpy` with high efficiency?\n",
    "\n",
    "- How to make data imputations with real-world spatiotemporal datasets?\n",
    "\n",
    "If you want to know more about BPMF, please read this article:\n",
    "\n",
    "> Ruslan Salakhutdinov, Andriy Mnih, 2008. [**Bayesian probabilistic matrix factorization using Markov chain Monte Carlo**](https://www.cs.toronto.edu/~amnih/papers/bpmf.pdf). Proceedings of the 25th International Conference on Machine Learning (*ICML 2008*), Helsinki, Finland. [[Matlab code (official)](https://www.cs.toronto.edu/~rsalakhu/BPMF.html)]\n",
    "\n",
    "## Quick Run\n",
    "\n",
    "This notebook is publicly available at [https://github.com/xinychen/tensor-learning](https://github.com/xinychen/tensor-learning).\n"
   ]
  },
  {
   "cell_type": "code",
   "execution_count": 1,
   "metadata": {
    "ExecuteTime": {
     "end_time": "2020-11-14T06:58:32.528254Z",
     "start_time": "2020-11-14T06:58:31.647362Z"
    }
   },
   "outputs": [],
   "source": [
    "import numpy as np\n",
    "from numpy.linalg import inv as inv\n",
    "from numpy.random import normal as normrnd\n",
    "from scipy.linalg import khatri_rao as kr_prod\n",
    "from scipy.stats import wishart\n",
    "from numpy.linalg import solve as solve\n",
    "from scipy.linalg import cholesky as cholesky_upper\n",
    "from scipy.linalg import solve_triangular as solve_ut\n",
    "import matplotlib.pyplot as plt\n",
    "%matplotlib inline"
   ]
  },
  {
   "cell_type": "code",
   "execution_count": 2,
   "metadata": {
    "ExecuteTime": {
     "end_time": "2020-11-14T06:58:33.666282Z",
     "start_time": "2020-11-14T06:58:33.654284Z"
    }
   },
   "outputs": [],
   "source": [
    "def ten2mat(tensor, mode):\n",
    "    return np.reshape(np.moveaxis(tensor, mode, 0), (tensor.shape[mode], -1), order = 'F')\n",
    "\n",
    "def mat2ten(mat, dim, mode):\n",
    "    index = list()\n",
    "    index.append(mode)\n",
    "    for i in range(dim.shape[0]):\n",
    "        if i != mode:\n",
    "            index.append(i)\n",
    "    return np.moveaxis(np.reshape(mat, list(dim[index]), order = 'F'), 0, mode)"
   ]
  },
  {
   "cell_type": "code",
   "execution_count": 3,
   "metadata": {
    "ExecuteTime": {
     "end_time": "2020-11-14T06:58:34.663787Z",
     "start_time": "2020-11-14T06:58:34.658795Z"
    }
   },
   "outputs": [],
   "source": [
    "def compute_mape(var, var_hat):\n",
    "    return np.sum(np.abs(var - var_hat) / var) / var.shape[0]\n",
    "\n",
    "def compute_rmse(var, var_hat):\n",
    "    return  np.sqrt(np.sum((var - var_hat) ** 2) / var.shape[0])"
   ]
  },
  {
   "cell_type": "code",
   "execution_count": 4,
   "metadata": {
    "ExecuteTime": {
     "end_time": "2020-11-14T06:58:35.663394Z",
     "start_time": "2020-11-14T06:58:35.658420Z"
    }
   },
   "outputs": [],
   "source": [
    "def mvnrnd_pre(mu, Lambda):\n",
    "    src = normrnd(size = (mu.shape[0],))\n",
    "    return solve_ut(cholesky_upper(Lambda, overwrite_a = True, check_finite = False), \n",
    "                    src, lower = False, check_finite = False, overwrite_b = True) + mu\n",
    "\n",
    "def cov_mat(mat, mat_bar):\n",
    "    mat = mat - mat_bar\n",
    "    return mat.T @ mat"
   ]
  },
  {
   "cell_type": "markdown",
   "metadata": {},
   "source": [
    "# Part 2: Bayesian Probabilistic Matrix Factorization (BPMF)\n",
    "\n"
   ]
  },
  {
   "cell_type": "code",
   "execution_count": 5,
   "metadata": {
    "ExecuteTime": {
     "end_time": "2020-11-14T06:58:38.093826Z",
     "start_time": "2020-11-14T06:58:38.070830Z"
    }
   },
   "outputs": [],
   "source": [
    "def sample_factor_w(tau_sparse_mat, tau_ind, W, X, tau, beta0 = 1, vargin = 0):\n",
    "    \"\"\"Sampling N-by-R factor matrix W and its hyperparameters (mu_w, Lambda_w).\"\"\"\n",
    "    \n",
    "    dim1, rank = W.shape\n",
    "    W_bar = np.mean(W, axis = 0)\n",
    "    temp = dim1 / (dim1 + beta0)\n",
    "    var_mu_hyper = temp * W_bar\n",
    "    var_W_hyper = inv(np.eye(rank) + cov_mat(W, W_bar) + temp * beta0 * np.outer(W_bar, W_bar))\n",
    "    var_Lambda_hyper = wishart.rvs(df = dim1 + rank, scale = var_W_hyper)\n",
    "    var_mu_hyper = mvnrnd_pre(var_mu_hyper, (dim1 + beta0) * var_Lambda_hyper)\n",
    "    \n",
    "    if dim1 * rank ** 2 > 1e+8:\n",
    "        vargin = 1\n",
    "    \n",
    "    if vargin == 0:\n",
    "        var1 = X.T\n",
    "        var2 = kr_prod(var1, var1)\n",
    "        var3 = (var2 @ tau_ind.T).reshape([rank, rank, dim1]) + var_Lambda_hyper[:, :, np.newaxis]\n",
    "        var4 = var1 @ tau_sparse_mat.T + (var_Lambda_hyper @ var_mu_hyper)[:, np.newaxis]\n",
    "        for i in range(dim1):\n",
    "            W[i, :] = mvnrnd_pre(solve(var3[:, :, i], var4[:, i]), var3[:, :, i])\n",
    "    elif vargin == 1:\n",
    "        for i in range(dim1):\n",
    "            pos0 = np.where(sparse_mat[i, :] != 0)\n",
    "            Xt = X[pos0[0], :]\n",
    "            var_mu = tau * Xt.T @ sparse_mat[i, pos0[0]] + var_Lambda_hyper @ var_mu_hyper\n",
    "            var_Lambda = tau * Xt.T @ Xt + var_Lambda_hyper\n",
    "            W[i, :] = mvnrnd_pre(solve(var_Lambda, var_mu), var_Lambda)\n",
    "    \n",
    "    return W"
   ]
  },
  {
   "cell_type": "code",
   "execution_count": 6,
   "metadata": {
    "ExecuteTime": {
     "end_time": "2020-11-14T06:58:39.181396Z",
     "start_time": "2020-11-14T06:58:39.174398Z"
    }
   },
   "outputs": [],
   "source": [
    "def sample_factor_x(tau_sparse_mat, tau_ind, W, X, beta0 = 1):\n",
    "    \"\"\"Sampling T-by-R factor matrix X and its hyperparameters (mu_x, Lambda_x).\"\"\"\n",
    "    \n",
    "    dim2, rank = X.shape\n",
    "    X_bar = np.mean(X, axis = 0)\n",
    "    temp = dim2 / (dim2 + beta0)\n",
    "    var_mu_hyper = temp * X_bar\n",
    "    var_X_hyper = inv(np.eye(rank) + cov_mat(X, X_bar) + temp * beta0 * np.outer(X_bar, X_bar))\n",
    "    var_Lambda_hyper = wishart.rvs(df = dim2 + rank, scale = var_X_hyper)\n",
    "    var_mu_hyper = mvnrnd_pre(var_mu_hyper, (dim2 + beta0) * var_Lambda_hyper)\n",
    "    \n",
    "    var1 = W.T\n",
    "    var2 = kr_prod(var1, var1)\n",
    "    var3 = (var2 @ tau_ind).reshape([rank, rank, dim2]) + var_Lambda_hyper[:, :, np.newaxis]\n",
    "    var4 = var1 @ tau_sparse_mat + (var_Lambda_hyper @ var_mu_hyper)[:, np.newaxis]\n",
    "    for t in range(dim2):\n",
    "        X[t, :] = mvnrnd_pre(solve(var3[:, :, t], var4[:, t]), var3[:, :, t])\n",
    "\n",
    "    return X"
   ]
  },
  {
   "cell_type": "code",
   "execution_count": 7,
   "metadata": {
    "ExecuteTime": {
     "end_time": "2020-11-14T06:58:40.288176Z",
     "start_time": "2020-11-14T06:58:40.275203Z"
    }
   },
   "outputs": [],
   "source": [
    "def sample_precision_tau(sparse_mat, mat_hat, ind):\n",
    "    var_alpha = 1e-6 + 0.5 * np.sum(ind)\n",
    "    var_beta = 1e-6 + 0.5 * np.sum(((sparse_mat - mat_hat) ** 2) * ind)\n",
    "    return np.random.gamma(var_alpha, 1 / var_beta)"
   ]
  },
  {
   "cell_type": "code",
   "execution_count": 8,
   "metadata": {
    "ExecuteTime": {
     "end_time": "2020-11-14T06:58:41.594267Z",
     "start_time": "2020-11-14T06:58:41.577240Z"
    }
   },
   "outputs": [],
   "source": [
    "def BPMF(dense_mat, sparse_mat, init, rank, burn_iter, gibbs_iter):\n",
    "    \"\"\"Bayesian Probabilistic Matrix Factorization, BPMF.\"\"\"\n",
    "    \n",
    "    dim1, dim2 = sparse_mat.shape\n",
    "    W = init[\"W\"]\n",
    "    X = init[\"X\"]\n",
    "    pos_test = np.where((dense_mat != 0) & (sparse_mat == 0))\n",
    "    ind = sparse_mat != 0\n",
    "    pos_obs = np.where(ind)\n",
    "    tau = 1\n",
    "    W_plus = np.zeros((dim1, rank))\n",
    "    X_plus = np.zeros((dim2, rank))\n",
    "    temp_hat = np.zeros(sparse_mat.shape)\n",
    "    show_iter = 200\n",
    "    mat_hat_plus = np.zeros(sparse_mat.shape)\n",
    "    for it in range(burn_iter + gibbs_iter):\n",
    "        tau_ind = tau * ind\n",
    "        tau_sparse_mat = tau * sparse_mat\n",
    "        W = sample_factor_w(tau_sparse_mat, tau_ind, W, X, tau)\n",
    "        X = sample_factor_x(tau_sparse_mat, tau_ind, W, X)\n",
    "        mat_hat = W @ X.T\n",
    "        tau = sample_precision_tau(sparse_mat, mat_hat, ind)\n",
    "        temp_hat += mat_hat\n",
    "        if (it + 1) % show_iter == 0 and it < burn_iter:\n",
    "            temp_hat = temp_hat / show_iter\n",
    "            print('Iter: {}'.format(it + 1))\n",
    "            print('MAPE: {:.6}'.format(compute_mape(dense_mat[pos_test], temp_hat[pos_test])))\n",
    "            print('RMSE: {:.6}'.format(compute_rmse(dense_mat[pos_test], temp_hat[pos_test])))\n",
    "            temp_hat = np.zeros(sparse_mat.shape)\n",
    "            print()\n",
    "        if it + 1 > burn_iter:\n",
    "            W_plus += W\n",
    "            X_plus += X\n",
    "            mat_hat_plus += mat_hat\n",
    "    mat_hat = mat_hat_plus / gibbs_iter\n",
    "    W = W_plus / gibbs_iter\n",
    "    X = X_plus / gibbs_iter\n",
    "    print('Imputation MAPE: {:.6}'.format(compute_mape(dense_mat[pos_test], mat_hat[pos_test])))\n",
    "    print('Imputation RMSE: {:.6}'.format(compute_rmse(dense_mat[pos_test], mat_hat[pos_test])))\n",
    "    print()\n",
    "    \n",
    "    return mat_hat, W, X"
   ]
  },
  {
   "cell_type": "markdown",
   "metadata": {},
   "source": [
    "# Part 3: Data Organization\n",
    "\n",
    "## 1) Matrix Structure\n",
    "\n",
    "We consider a dataset of $m$ discrete time series $\\boldsymbol{y}_{i}\\in\\mathbb{R}^{f},i\\in\\left\\{1,2,...,m\\right\\}$. The time series may have missing elements. We express spatio-temporal dataset as a matrix $Y\\in\\mathbb{R}^{m\\times f}$ with $m$ rows (e.g., locations) and $f$ columns (e.g., discrete time intervals),\n",
    "\n",
    "$$Y=\\left[ \\begin{array}{cccc} y_{11} & y_{12} & \\cdots & y_{1f} \\\\ y_{21} & y_{22} & \\cdots & y_{2f} \\\\ \\vdots & \\vdots & \\ddots & \\vdots \\\\ y_{m1} & y_{m2} & \\cdots & y_{mf} \\\\ \\end{array} \\right]\\in\\mathbb{R}^{m\\times f}.$$\n",
    "\n",
    "## 2) Tensor Structure\n",
    "\n",
    "We consider a dataset of $m$ discrete time series $\\boldsymbol{y}_{i}\\in\\mathbb{R}^{nf},i\\in\\left\\{1,2,...,m\\right\\}$. The time series may have missing elements. We partition each time series into intervals of predifined length $f$. We express each partitioned time series as a matrix $Y_{i}$ with $n$ rows (e.g., days) and $f$ columns (e.g., discrete time intervals per day),\n",
    "\n",
    "$$Y_{i}=\\left[ \\begin{array}{cccc} y_{11} & y_{12} & \\cdots & y_{1f} \\\\ y_{21} & y_{22} & \\cdots & y_{2f} \\\\ \\vdots & \\vdots & \\ddots & \\vdots \\\\ y_{n1} & y_{n2} & \\cdots & y_{nf} \\\\ \\end{array} \\right]\\in\\mathbb{R}^{n\\times f},i=1,2,...,m,$$\n",
    "\n",
    "therefore, the resulting structure is a tensor $\\mathcal{Y}\\in\\mathbb{R}^{m\\times n\\times f}$."
   ]
  },
  {
   "cell_type": "markdown",
   "metadata": {},
   "source": [
    "# PeMS-4W"
   ]
  },
  {
   "cell_type": "code",
   "execution_count": 16,
   "metadata": {
    "ExecuteTime": {
     "end_time": "2020-11-12T03:52:56.870413Z",
     "start_time": "2020-11-12T03:52:24.440263Z"
    }
   },
   "outputs": [],
   "source": [
    "import numpy as np\n",
    "import pandas as pd\n",
    "np.random.seed(1000)\n",
    "\n",
    "data = pd.read_csv('../datasets/California-data-set/pems-4w.csv', header = None)\n",
    "dense_mat = data.values\n",
    "random_mat = ten2mat(np.random.rand(data.values.shape[0], 288, 4 * 7), 0)\n",
    "del data\n",
    "\n",
    "missing_rate = 0.3\n",
    "\n",
    "### Random missing (RM) scenario:\n",
    "sparse_mat = np.multiply(dense_mat, np.round(random_mat + 0.5 - missing_rate))"
   ]
  },
  {
   "cell_type": "code",
   "execution_count": 17,
   "metadata": {
    "ExecuteTime": {
     "end_time": "2020-11-12T05:33:27.413831Z",
     "start_time": "2020-11-12T03:52:56.873415Z"
    }
   },
   "outputs": [
    {
     "name": "stdout",
     "output_type": "stream",
     "text": [
      "Iter: 200\n",
      "MAPE: 0.0486593\n",
      "RMSE: 4.20742\n",
      "\n",
      "Iter: 400\n",
      "MAPE: 0.048604\n",
      "RMSE: 4.20788\n",
      "\n",
      "Iter: 600\n",
      "MAPE: 0.0486043\n",
      "RMSE: 4.20788\n",
      "\n",
      "Iter: 800\n",
      "MAPE: 0.0486043\n",
      "RMSE: 4.20788\n",
      "\n",
      "Iter: 1000\n",
      "MAPE: 0.0486038\n",
      "RMSE: 4.20788\n",
      "\n",
      "Imputation MAPE: 0.0486039\n",
      "Imputation RMSE: 4.20788\n",
      "\n",
      "Running time: 100.51 minutes\n"
     ]
    }
   ],
   "source": [
    "import time\n",
    "start = time.time()\n",
    "dim1, dim2 = sparse_mat.shape\n",
    "rank = 10\n",
    "init = {\"W\": 0.1 * np.random.randn(dim1, rank), \n",
    "        \"X\": 0.1 * np.random.randn(dim2, rank)}\n",
    "burn_iter = 1000\n",
    "gibbs_iter = 200\n",
    "BPMF(dense_mat, sparse_mat, init, rank, burn_iter, gibbs_iter)\n",
    "end = time.time()\n",
    "print('Running time: %.2f minutes'%((end - start) / 60.0))"
   ]
  },
  {
   "cell_type": "code",
   "execution_count": 18,
   "metadata": {
    "ExecuteTime": {
     "end_time": "2020-11-12T05:39:08.372348Z",
     "start_time": "2020-11-12T05:38:38.382739Z"
    }
   },
   "outputs": [],
   "source": [
    "import numpy as np\n",
    "import pandas as pd\n",
    "np.random.seed(1000)\n",
    "\n",
    "data = pd.read_csv('../datasets/California-data-set/pems-4w.csv', header = None)\n",
    "dense_mat = data.values\n",
    "random_mat = ten2mat(np.random.rand(data.values.shape[0], 288, 4 * 7), 0)\n",
    "del data\n",
    "\n",
    "missing_rate = 0.7\n",
    "\n",
    "### Random missing (RM) scenario:\n",
    "sparse_mat = np.multiply(dense_mat, np.round(random_mat + 0.5 - missing_rate))"
   ]
  },
  {
   "cell_type": "code",
   "execution_count": 19,
   "metadata": {
    "ExecuteTime": {
     "end_time": "2020-11-12T07:21:54.067947Z",
     "start_time": "2020-11-12T05:39:08.374349Z"
    },
    "scrolled": true
   },
   "outputs": [
    {
     "name": "stdout",
     "output_type": "stream",
     "text": [
      "Iter: 200\n",
      "MAPE: 0.049038\n",
      "RMSE: 4.22545\n",
      "\n",
      "Iter: 400\n",
      "MAPE: 0.0488331\n",
      "RMSE: 4.22376\n",
      "\n",
      "Iter: 600\n",
      "MAPE: 0.0488337\n",
      "RMSE: 4.22378\n",
      "\n",
      "Iter: 800\n",
      "MAPE: 0.0488334\n",
      "RMSE: 4.22375\n",
      "\n",
      "Iter: 1000\n",
      "MAPE: 0.0488332\n",
      "RMSE: 4.22377\n",
      "\n",
      "Imputation MAPE: 0.0488333\n",
      "Imputation RMSE: 4.22378\n",
      "\n",
      "Running time: 102.76 minutes\n"
     ]
    }
   ],
   "source": [
    "import time\n",
    "start = time.time()\n",
    "dim1, dim2 = sparse_mat.shape\n",
    "rank = 10\n",
    "init = {\"W\": 0.1 * np.random.randn(dim1, rank), \n",
    "        \"X\": 0.1 * np.random.randn(dim2, rank)}\n",
    "burn_iter = 1000\n",
    "gibbs_iter = 200\n",
    "BPMF(dense_mat, sparse_mat, init, rank, burn_iter, gibbs_iter)\n",
    "end = time.time()\n",
    "print('Running time: %.2f minutes'%((end - start) / 60.0))"
   ]
  },
  {
   "cell_type": "code",
   "execution_count": 20,
   "metadata": {
    "ExecuteTime": {
     "end_time": "2020-11-12T07:22:23.224963Z",
     "start_time": "2020-11-12T07:21:54.073947Z"
    }
   },
   "outputs": [],
   "source": [
    "import numpy as np\n",
    "import pandas as pd\n",
    "np.random.seed(1000)\n",
    "\n",
    "data = pd.read_csv('../datasets/California-data-set/pems-4w.csv', header = None)\n",
    "dense_mat = data.values\n",
    "dense_tensor = mat2ten(dense_mat, np.array([data.values.shape[0], 288, 4 * 7]), 0)\n",
    "random_matrix = np.random.rand(data.values.shape[0], 4 * 7)\n",
    "\n",
    "missing_rate = 0.3\n",
    "\n",
    "### Non-random missing (NM) scenario:\n",
    "binary_tensor = np.zeros(dense_tensor.shape)\n",
    "for i1 in range(dense_tensor.shape[0]):\n",
    "    for i2 in range(dense_tensor.shape[2]):\n",
    "        binary_tensor[i1, :, i2] = np.round(random_matrix[i1, i2] + 0.5 - missing_rate)\n",
    "sparse_mat = ten2mat(np.multiply(dense_tensor, binary_tensor), 0)\n",
    "del dense_tensor, binary_tensor"
   ]
  },
  {
   "cell_type": "code",
   "execution_count": 21,
   "metadata": {
    "ExecuteTime": {
     "end_time": "2020-11-12T09:06:20.658140Z",
     "start_time": "2020-11-12T07:22:23.227966Z"
    },
    "scrolled": true
   },
   "outputs": [
    {
     "name": "stdout",
     "output_type": "stream",
     "text": [
      "Iter: 200\n",
      "MAPE: 0.051821\n",
      "RMSE: 4.45542\n",
      "\n",
      "Iter: 400\n",
      "MAPE: 0.0517783\n",
      "RMSE: 4.45911\n",
      "\n",
      "Iter: 600\n",
      "MAPE: 0.0517779\n",
      "RMSE: 4.4591\n",
      "\n",
      "Iter: 800\n",
      "MAPE: 0.0517781\n",
      "RMSE: 4.4591\n",
      "\n",
      "Iter: 1000\n",
      "MAPE: 0.0517777\n",
      "RMSE: 4.45906\n",
      "\n",
      "Imputation MAPE: 0.0517788\n",
      "Imputation RMSE: 4.45914\n",
      "\n",
      "Running time: 103.96 minutes\n"
     ]
    }
   ],
   "source": [
    "import time\n",
    "start = time.time()\n",
    "dim1, dim2 = sparse_mat.shape\n",
    "rank = 10\n",
    "init = {\"W\": 0.1 * np.random.randn(dim1, rank), \n",
    "        \"X\": 0.1 * np.random.randn(dim2, rank)}\n",
    "burn_iter = 1000\n",
    "gibbs_iter = 200\n",
    "BPMF(dense_mat, sparse_mat, init, rank, burn_iter, gibbs_iter)\n",
    "end = time.time()\n",
    "print('Running time: %.2f minutes'%((end - start) / 60.0))"
   ]
  },
  {
   "cell_type": "code",
   "execution_count": 22,
   "metadata": {
    "ExecuteTime": {
     "end_time": "2020-11-12T09:06:46.829115Z",
     "start_time": "2020-11-12T09:06:20.664141Z"
    }
   },
   "outputs": [],
   "source": [
    "import numpy as np\n",
    "import pandas as pd\n",
    "np.random.seed(1000)\n",
    "\n",
    "data = pd.read_csv('../datasets/California-data-set/pems-4w.csv', header = None)\n",
    "dense_mat = data.values\n",
    "dense_tensor = mat2ten(dense_mat, np.array([data.values.shape[0], 288, 4 * 7]), 0)\n",
    "random_matrix = np.random.rand(data.values.shape[0], 4 * 7)\n",
    "\n",
    "missing_rate = 0.7\n",
    "\n",
    "### Non-random missing (NM) scenario:\n",
    "binary_tensor = np.zeros(dense_tensor.shape)\n",
    "for i1 in range(dense_tensor.shape[0]):\n",
    "    for i2 in range(dense_tensor.shape[2]):\n",
    "        binary_tensor[i1, :, i2] = np.round(random_matrix[i1, i2] + 0.5 - missing_rate)\n",
    "sparse_mat = ten2mat(np.multiply(dense_tensor, binary_tensor), 0)\n",
    "del dense_tensor, binary_tensor"
   ]
  },
  {
   "cell_type": "code",
   "execution_count": 23,
   "metadata": {
    "ExecuteTime": {
     "end_time": "2020-11-12T10:49:26.603196Z",
     "start_time": "2020-11-12T09:06:46.831116Z"
    },
    "scrolled": true
   },
   "outputs": [
    {
     "name": "stdout",
     "output_type": "stream",
     "text": [
      "Iter: 200\n",
      "MAPE: 0.0626843\n",
      "RMSE: 5.50841\n",
      "\n",
      "Iter: 400\n",
      "MAPE: 0.0576987\n",
      "RMSE: 5.06802\n",
      "\n",
      "Iter: 600\n",
      "MAPE: 0.05744\n",
      "RMSE: 5.07271\n",
      "\n",
      "Iter: 800\n",
      "MAPE: 0.0576504\n",
      "RMSE: 5.08866\n",
      "\n",
      "Iter: 1000\n",
      "MAPE: 0.0576505\n",
      "RMSE: 5.08804\n",
      "\n",
      "Imputation MAPE: 0.0576488\n",
      "Imputation RMSE: 5.08817\n",
      "\n",
      "Running time: 102.66 minutes\n"
     ]
    }
   ],
   "source": [
    "import time\n",
    "start = time.time()\n",
    "dim1, dim2 = sparse_mat.shape\n",
    "rank = 10\n",
    "init = {\"W\": 0.1 * np.random.randn(dim1, rank), \n",
    "        \"X\": 0.1 * np.random.randn(dim2, rank)}\n",
    "burn_iter = 1000\n",
    "gibbs_iter = 200\n",
    "BPMF(dense_mat, sparse_mat, init, rank, burn_iter, gibbs_iter)\n",
    "end = time.time()\n",
    "print('Running time: %.2f minutes'%((end - start) / 60.0))"
   ]
  },
  {
   "cell_type": "markdown",
   "metadata": {},
   "source": [
    "# PeMS-8W"
   ]
  },
  {
   "cell_type": "code",
   "execution_count": 24,
   "metadata": {
    "ExecuteTime": {
     "end_time": "2020-11-12T10:50:53.426648Z",
     "start_time": "2020-11-12T10:49:26.611231Z"
    }
   },
   "outputs": [],
   "source": [
    "import numpy as np\n",
    "import pandas as pd\n",
    "np.random.seed(1000)\n",
    "\n",
    "data = pd.read_csv('../datasets/California-data-set/pems-8w.csv', header = None)\n",
    "dense_mat = data.values\n",
    "random_mat = ten2mat(np.random.rand(data.values.shape[0], 288, 8 * 7), 0)\n",
    "del data\n",
    "\n",
    "missing_rate = 0.3\n",
    "\n",
    "### Random missing (RM) scenario:\n",
    "sparse_mat = np.multiply(dense_mat, np.round(random_mat + 0.5 - missing_rate))"
   ]
  },
  {
   "cell_type": "code",
   "execution_count": 25,
   "metadata": {
    "ExecuteTime": {
     "end_time": "2020-11-12T14:05:31.544302Z",
     "start_time": "2020-11-12T10:50:53.430654Z"
    },
    "scrolled": true
   },
   "outputs": [
    {
     "name": "stdout",
     "output_type": "stream",
     "text": [
      "Iter: 200\n",
      "MAPE: 0.0515199\n",
      "RMSE: 4.42065\n",
      "\n",
      "Iter: 400\n",
      "MAPE: 0.0515961\n",
      "RMSE: 4.4274\n",
      "\n",
      "Iter: 600\n",
      "MAPE: 0.0515959\n",
      "RMSE: 4.4274\n",
      "\n",
      "Iter: 800\n",
      "MAPE: 0.0515961\n",
      "RMSE: 4.4274\n",
      "\n",
      "Iter: 1000\n",
      "MAPE: 0.0515959\n",
      "RMSE: 4.4274\n",
      "\n",
      "Imputation MAPE: 0.0515957\n",
      "Imputation RMSE: 4.4274\n",
      "\n",
      "Running time: 194.63 minutes\n"
     ]
    }
   ],
   "source": [
    "import time\n",
    "start = time.time()\n",
    "dim1, dim2 = sparse_mat.shape\n",
    "rank = 10\n",
    "init = {\"W\": 0.1 * np.random.randn(dim1, rank), \n",
    "        \"X\": 0.1 * np.random.randn(dim2, rank)}\n",
    "burn_iter = 1000\n",
    "gibbs_iter = 200\n",
    "BPMF(dense_mat, sparse_mat, init, rank, burn_iter, gibbs_iter)\n",
    "end = time.time()\n",
    "print('Running time: %.2f minutes'%((end - start) / 60.0))"
   ]
  },
  {
   "cell_type": "code",
   "execution_count": 26,
   "metadata": {
    "ExecuteTime": {
     "end_time": "2020-11-12T14:06:58.900432Z",
     "start_time": "2020-11-12T14:05:31.554303Z"
    }
   },
   "outputs": [],
   "source": [
    "import numpy as np\n",
    "import pandas as pd\n",
    "np.random.seed(1000)\n",
    "\n",
    "data = pd.read_csv('../datasets/California-data-set/pems-8w.csv', header = None)\n",
    "dense_mat = data.values\n",
    "random_mat = ten2mat(np.random.rand(data.values.shape[0], 288, 8 * 7), 0)\n",
    "del data\n",
    "\n",
    "missing_rate = 0.7\n",
    "\n",
    "### Random missing (RM) scenario:\n",
    "sparse_mat = np.multiply(dense_mat, np.round(random_mat + 0.5 - missing_rate))"
   ]
  },
  {
   "cell_type": "code",
   "execution_count": 27,
   "metadata": {
    "ExecuteTime": {
     "end_time": "2020-11-12T17:19:09.377684Z",
     "start_time": "2020-11-12T14:06:58.903342Z"
    },
    "scrolled": true
   },
   "outputs": [
    {
     "name": "stdout",
     "output_type": "stream",
     "text": [
      "Iter: 200\n",
      "MAPE: 0.0518987\n",
      "RMSE: 4.43969\n",
      "\n",
      "Iter: 400\n",
      "MAPE: 0.0517679\n",
      "RMSE: 4.43836\n",
      "\n",
      "Iter: 600\n",
      "MAPE: 0.0517675\n",
      "RMSE: 4.43835\n",
      "\n",
      "Iter: 800\n",
      "MAPE: 0.0517679\n",
      "RMSE: 4.43836\n",
      "\n",
      "Iter: 1000\n",
      "MAPE: 0.0517675\n",
      "RMSE: 4.43835\n",
      "\n",
      "Imputation MAPE: 0.0517675\n",
      "Imputation RMSE: 4.43836\n",
      "\n",
      "Running time: 192.17 minutes\n"
     ]
    }
   ],
   "source": [
    "import time\n",
    "start = time.time()\n",
    "dim1, dim2 = sparse_mat.shape\n",
    "rank = 10\n",
    "init = {\"W\": 0.1 * np.random.randn(dim1, rank), \n",
    "        \"X\": 0.1 * np.random.randn(dim2, rank)}\n",
    "burn_iter = 1000\n",
    "gibbs_iter = 200\n",
    "BPMF(dense_mat, sparse_mat, init, rank, burn_iter, gibbs_iter)\n",
    "end = time.time()\n",
    "print('Running time: %.2f minutes'%((end - start) / 60.0))"
   ]
  },
  {
   "cell_type": "code",
   "execution_count": 28,
   "metadata": {
    "ExecuteTime": {
     "end_time": "2020-11-12T17:20:31.367543Z",
     "start_time": "2020-11-12T17:19:09.380687Z"
    }
   },
   "outputs": [],
   "source": [
    "import numpy as np\n",
    "import pandas as pd\n",
    "np.random.seed(1000)\n",
    "\n",
    "data = pd.read_csv('../datasets/California-data-set/pems-8w.csv', header = None)\n",
    "dense_mat = data.values\n",
    "dense_tensor = mat2ten(dense_mat, np.array([data.values.shape[0], 288, 8 * 7]), 0)\n",
    "random_matrix = np.random.rand(data.values.shape[0], 8 * 7)\n",
    "\n",
    "missing_rate = 0.3\n",
    "\n",
    "### Non-random missing (NM) scenario:\n",
    "binary_tensor = np.zeros(dense_tensor.shape)\n",
    "for i1 in range(dense_tensor.shape[0]):\n",
    "    for i2 in range(dense_tensor.shape[2]):\n",
    "        binary_tensor[i1, :, i2] = np.round(random_matrix[i1, i2] + 0.5 - missing_rate)\n",
    "sparse_mat = ten2mat(np.multiply(dense_tensor, binary_tensor), 0)\n",
    "del dense_tensor, binary_tensor"
   ]
  },
  {
   "cell_type": "code",
   "execution_count": 29,
   "metadata": {
    "ExecuteTime": {
     "end_time": "2020-11-12T20:31:10.389830Z",
     "start_time": "2020-11-12T17:20:31.371544Z"
    },
    "scrolled": true
   },
   "outputs": [
    {
     "name": "stdout",
     "output_type": "stream",
     "text": [
      "Iter: 200\n",
      "MAPE: 0.0532577\n",
      "RMSE: 4.55766\n",
      "\n",
      "Iter: 400\n",
      "MAPE: 0.0532976\n",
      "RMSE: 4.56359\n",
      "\n",
      "Iter: 600\n",
      "MAPE: 0.053297\n",
      "RMSE: 4.56356\n",
      "\n",
      "Iter: 800\n",
      "MAPE: 0.0532974\n",
      "RMSE: 4.56357\n",
      "\n",
      "Iter: 1000\n",
      "MAPE: 0.0532979\n",
      "RMSE: 4.5636\n",
      "\n",
      "Imputation MAPE: 0.0532974\n",
      "Imputation RMSE: 4.56358\n",
      "\n",
      "Running time: 190.65 minutes\n"
     ]
    }
   ],
   "source": [
    "import time\n",
    "start = time.time()\n",
    "dim1, dim2 = sparse_mat.shape\n",
    "rank = 10\n",
    "init = {\"W\": 0.1 * np.random.randn(dim1, rank), \n",
    "        \"X\": 0.1 * np.random.randn(dim2, rank)}\n",
    "burn_iter = 1000\n",
    "gibbs_iter = 200\n",
    "BPMF(dense_mat, sparse_mat, init, rank, burn_iter, gibbs_iter)\n",
    "end = time.time()\n",
    "print('Running time: %.2f minutes'%((end - start) / 60.0))"
   ]
  },
  {
   "cell_type": "code",
   "execution_count": 30,
   "metadata": {
    "ExecuteTime": {
     "end_time": "2020-11-12T20:32:29.549961Z",
     "start_time": "2020-11-12T20:31:10.392824Z"
    }
   },
   "outputs": [],
   "source": [
    "import numpy as np\n",
    "import pandas as pd\n",
    "np.random.seed(1000)\n",
    "\n",
    "data = pd.read_csv('../datasets/California-data-set/pems-8w.csv', header = None)\n",
    "dense_mat = data.values\n",
    "dense_tensor = mat2ten(dense_mat, np.array([data.values.shape[0], 288, 8 * 7]), 0)\n",
    "random_matrix = np.random.rand(data.values.shape[0], 8 * 7)\n",
    "\n",
    "missing_rate = 0.7\n",
    "\n",
    "### Non-random missing (NM) scenario:\n",
    "binary_tensor = np.zeros(dense_tensor.shape)\n",
    "for i1 in range(dense_tensor.shape[0]):\n",
    "    for i2 in range(dense_tensor.shape[2]):\n",
    "        binary_tensor[i1, :, i2] = np.round(random_matrix[i1, i2] + 0.5 - missing_rate)\n",
    "sparse_mat = ten2mat(np.multiply(dense_tensor, binary_tensor), 0)\n",
    "del dense_tensor, binary_tensor"
   ]
  },
  {
   "cell_type": "code",
   "execution_count": 31,
   "metadata": {
    "ExecuteTime": {
     "end_time": "2020-11-12T23:44:53.138654Z",
     "start_time": "2020-11-12T20:32:29.551962Z"
    }
   },
   "outputs": [
    {
     "name": "stdout",
     "output_type": "stream",
     "text": [
      "Iter: 200\n",
      "MAPE: 0.0550929\n",
      "RMSE: 4.70189\n",
      "\n",
      "Iter: 400\n",
      "MAPE: 0.055128\n",
      "RMSE: 4.71909\n",
      "\n",
      "Iter: 600\n",
      "MAPE: 0.0551271\n",
      "RMSE: 4.71906\n",
      "\n",
      "Iter: 800\n",
      "MAPE: 0.0551268\n",
      "RMSE: 4.71904\n",
      "\n",
      "Iter: 1000\n",
      "MAPE: 0.055128\n",
      "RMSE: 4.71908\n",
      "\n",
      "Imputation MAPE: 0.0551276\n",
      "Imputation RMSE: 4.71916\n",
      "\n",
      "Running time: 192.39 minutes\n"
     ]
    }
   ],
   "source": [
    "import time\n",
    "start = time.time()\n",
    "dim1, dim2 = sparse_mat.shape\n",
    "rank = 10\n",
    "init = {\"W\": 0.1 * np.random.randn(dim1, rank), \n",
    "        \"X\": 0.1 * np.random.randn(dim2, rank)}\n",
    "burn_iter = 1000\n",
    "gibbs_iter = 200\n",
    "BPMF(dense_mat, sparse_mat, init, rank, burn_iter, gibbs_iter)\n",
    "end = time.time()\n",
    "print('Running time: %.2f minutes'%((end - start) / 60.0))"
   ]
  },
  {
   "cell_type": "markdown",
   "metadata": {},
   "source": [
    "# London 1-M data"
   ]
  },
  {
   "cell_type": "code",
   "execution_count": 11,
   "metadata": {
    "ExecuteTime": {
     "end_time": "2020-11-14T07:07:21.700159Z",
     "start_time": "2020-11-14T07:07:12.948268Z"
    }
   },
   "outputs": [
    {
     "name": "stdout",
     "output_type": "stream",
     "text": [
      "(219369, 720)\n"
     ]
    }
   ],
   "source": [
    "import numpy as np\n",
    "np.random.seed(1000)\n",
    "\n",
    "missing_rate = 0.3\n",
    "\n",
    "dense_mat = ten2mat(np.load('../datasets/London-data-set/hourly_speed_mat.npy'),0)\n",
    "binary_mat = dense_mat.copy()\n",
    "binary_mat[binary_mat != 0] = 1\n",
    "pos = np.where(np.sum(binary_mat, axis = 1) > 0.7 * binary_mat.shape[1])\n",
    "dense_mat = dense_mat[pos[0], :]\n",
    "\n",
    "## Random missing (RM)\n",
    "random_mat = np.random.rand(dense_mat.shape[0], dense_mat.shape[1])\n",
    "binary_mat = np.round(random_mat + 0.5 - missing_rate)\n",
    "sparse_mat = np.multiply(dense_mat, binary_mat)"
   ]
  },
  {
   "cell_type": "code",
   "execution_count": 13,
   "metadata": {
    "ExecuteTime": {
     "end_time": "2020-11-14T08:08:04.066620Z",
     "start_time": "2020-11-14T07:11:16.964453Z"
    }
   },
   "outputs": [
    {
     "name": "stdout",
     "output_type": "stream",
     "text": [
      "Iter: 200\n",
      "MAPE: 0.0911408\n",
      "RMSE: 2.206\n",
      "\n",
      "Iter: 400\n",
      "MAPE: 0.091145\n",
      "RMSE: 2.20733\n",
      "\n",
      "Iter: 600\n",
      "MAPE: 0.0911443\n",
      "RMSE: 2.20731\n",
      "\n",
      "Iter: 800\n",
      "MAPE: 0.0911441\n",
      "RMSE: 2.20732\n",
      "\n",
      "Iter: 1000\n",
      "MAPE: 0.0911455\n",
      "RMSE: 2.20733\n",
      "\n",
      "Imputation MAPE: 0.0911463\n",
      "Imputation RMSE: 2.2073\n",
      "\n",
      "Running time: 56.78 minutes\n"
     ]
    }
   ],
   "source": [
    "import time\n",
    "start = time.time()\n",
    "dim1, dim2 = sparse_mat.shape\n",
    "rank = 20\n",
    "init = {\"W\": 0.1 * np.random.randn(dim1, rank), \n",
    "        \"X\": 0.1 * np.random.randn(dim2, rank)}\n",
    "burn_iter = 1000\n",
    "gibbs_iter = 200\n",
    "BPMF(dense_mat, sparse_mat, init, rank, burn_iter, gibbs_iter)\n",
    "end = time.time()\n",
    "print('Running time: %.2f minutes'%((end - start) / 60.0))"
   ]
  },
  {
   "cell_type": "code",
   "execution_count": 14,
   "metadata": {
    "ExecuteTime": {
     "end_time": "2020-11-14T08:08:12.375619Z",
     "start_time": "2020-11-14T08:08:04.070627Z"
    }
   },
   "outputs": [],
   "source": [
    "import numpy as np\n",
    "np.random.seed(1000)\n",
    "\n",
    "missing_rate = 0.7\n",
    "\n",
    "dense_mat = ten2mat(np.load('../datasets/London-data-set/hourly_speed_mat.npy'),0)\n",
    "binary_mat = dense_mat.copy()\n",
    "binary_mat[binary_mat != 0] = 1\n",
    "pos = np.where(np.sum(binary_mat, axis = 1) > 0.7 * binary_mat.shape[1])\n",
    "dense_mat = dense_mat[pos[0], :]\n",
    "\n",
    "## Random missing (RM)\n",
    "random_mat = np.random.rand(dense_mat.shape[0], dense_mat.shape[1])\n",
    "binary_mat = np.round(random_mat + 0.5 - missing_rate)\n",
    "sparse_mat = np.multiply(dense_mat, binary_mat)"
   ]
  },
  {
   "cell_type": "code",
   "execution_count": 15,
   "metadata": {
    "ExecuteTime": {
     "end_time": "2020-11-14T09:05:03.470890Z",
     "start_time": "2020-11-14T08:08:12.378621Z"
    }
   },
   "outputs": [
    {
     "name": "stdout",
     "output_type": "stream",
     "text": [
      "Iter: 200\n",
      "MAPE: 0.0939606\n",
      "RMSE: 2.2713\n",
      "\n",
      "Iter: 400\n",
      "MAPE: 0.0940404\n",
      "RMSE: 2.27407\n",
      "\n",
      "Iter: 600\n",
      "MAPE: 0.0940432\n",
      "RMSE: 2.27408\n",
      "\n",
      "Iter: 800\n",
      "MAPE: 0.0940461\n",
      "RMSE: 2.2741\n",
      "\n",
      "Iter: 1000\n",
      "MAPE: 0.0940405\n",
      "RMSE: 2.27406\n",
      "\n",
      "Imputation MAPE: 0.0940452\n",
      "Imputation RMSE: 2.27407\n",
      "\n",
      "Running time: 56.85 minutes\n"
     ]
    }
   ],
   "source": [
    "import time\n",
    "start = time.time()\n",
    "dim1, dim2 = sparse_mat.shape\n",
    "rank = 20\n",
    "init = {\"W\": 0.1 * np.random.randn(dim1, rank), \n",
    "        \"X\": 0.1 * np.random.randn(dim2, rank)}\n",
    "burn_iter = 1000\n",
    "gibbs_iter = 200\n",
    "BPMF(dense_mat, sparse_mat, init, rank, burn_iter, gibbs_iter)\n",
    "end = time.time()\n",
    "print('Running time: %.2f minutes'%((end - start) / 60.0))"
   ]
  },
  {
   "cell_type": "code",
   "execution_count": 16,
   "metadata": {
    "ExecuteTime": {
     "end_time": "2020-11-14T09:05:15.526818Z",
     "start_time": "2020-11-14T09:05:03.473892Z"
    }
   },
   "outputs": [],
   "source": [
    "import numpy as np\n",
    "np.random.seed(1000)\n",
    "\n",
    "missing_rate = 0.3\n",
    "\n",
    "dense_mat = ten2mat(np.load('../datasets/London-data-set/hourly_speed_mat.npy'),0)\n",
    "binary_mat = dense_mat.copy()\n",
    "binary_mat[binary_mat != 0] = 1\n",
    "pos = np.where(np.sum(binary_mat, axis = 1) > 0.7 * binary_mat.shape[1])\n",
    "dense_mat = dense_mat[pos[0], :]\n",
    "\n",
    "## Non-random missing (NM)\n",
    "binary_mat = np.zeros(dense_mat.shape)\n",
    "random_mat = np.random.rand(dense_mat.shape[0], 30)\n",
    "for i1 in range(dense_mat.shape[0]):\n",
    "    for i2 in range(30):\n",
    "        binary_mat[i1, i2 * 24 : (i2 + 1) * 24] = np.round(random_mat[i1, i2] + 0.5 - missing_rate)\n",
    "sparse_mat = np.multiply(dense_mat, binary_mat)"
   ]
  },
  {
   "cell_type": "code",
   "execution_count": 17,
   "metadata": {
    "ExecuteTime": {
     "end_time": "2020-11-14T09:59:12.789509Z",
     "start_time": "2020-11-14T09:05:15.529822Z"
    }
   },
   "outputs": [
    {
     "name": "stdout",
     "output_type": "stream",
     "text": [
      "Iter: 200\n",
      "MAPE: 0.0925648\n",
      "RMSE: 2.24517\n",
      "\n",
      "Iter: 400\n",
      "MAPE: 0.0926499\n",
      "RMSE: 2.24728\n",
      "\n",
      "Iter: 600\n",
      "MAPE: 0.0926493\n",
      "RMSE: 2.24734\n",
      "\n",
      "Iter: 800\n",
      "MAPE: 0.0926427\n",
      "RMSE: 2.24729\n",
      "\n",
      "Iter: 1000\n",
      "MAPE: 0.0926503\n",
      "RMSE: 2.24735\n",
      "\n",
      "Imputation MAPE: 0.0926499\n",
      "Imputation RMSE: 2.24734\n",
      "\n",
      "Running time: 53.95 minutes\n"
     ]
    }
   ],
   "source": [
    "import time\n",
    "start = time.time()\n",
    "dim1, dim2 = sparse_mat.shape\n",
    "rank = 20\n",
    "init = {\"W\": 0.1 * np.random.randn(dim1, rank), \n",
    "        \"X\": 0.1 * np.random.randn(dim2, rank)}\n",
    "burn_iter = 1000\n",
    "gibbs_iter = 200\n",
    "BPMF(dense_mat, sparse_mat, init, rank, burn_iter, gibbs_iter)\n",
    "end = time.time()\n",
    "print('Running time: %.2f minutes'%((end - start) / 60.0))"
   ]
  },
  {
   "cell_type": "code",
   "execution_count": 18,
   "metadata": {
    "ExecuteTime": {
     "end_time": "2020-11-14T09:59:24.682197Z",
     "start_time": "2020-11-14T09:59:12.791480Z"
    }
   },
   "outputs": [],
   "source": [
    "import numpy as np\n",
    "np.random.seed(1000)\n",
    "\n",
    "missing_rate = 0.7\n",
    "\n",
    "dense_mat = ten2mat(np.load('../datasets/London-data-set/hourly_speed_mat.npy'),0)\n",
    "binary_mat = dense_mat.copy()\n",
    "binary_mat[binary_mat != 0] = 1\n",
    "pos = np.where(np.sum(binary_mat, axis = 1) > 0.7 * binary_mat.shape[1])\n",
    "dense_mat = dense_mat[pos[0], :]\n",
    "\n",
    "## Non-random missing (NM)\n",
    "binary_mat = np.zeros(dense_mat.shape)\n",
    "random_mat = np.random.rand(dense_mat.shape[0], 30)\n",
    "for i1 in range(dense_mat.shape[0]):\n",
    "    for i2 in range(30):\n",
    "        binary_mat[i1, i2 * 24 : (i2 + 1) * 24] = np.round(random_mat[i1, i2] + 0.5 - missing_rate)\n",
    "sparse_mat = np.multiply(dense_mat, binary_mat)"
   ]
  },
  {
   "cell_type": "code",
   "execution_count": 19,
   "metadata": {
    "ExecuteTime": {
     "end_time": "2020-11-14T10:53:32.009914Z",
     "start_time": "2020-11-14T09:59:24.684370Z"
    }
   },
   "outputs": [
    {
     "name": "stdout",
     "output_type": "stream",
     "text": [
      "Iter: 200\n",
      "MAPE: 0.0996579\n",
      "RMSE: 2.41299\n",
      "\n",
      "Iter: 400\n",
      "MAPE: 0.0998302\n",
      "RMSE: 2.41553\n",
      "\n",
      "Iter: 600\n",
      "MAPE: 0.0999059\n",
      "RMSE: 2.41747\n",
      "\n",
      "Iter: 800\n",
      "MAPE: 0.0998985\n",
      "RMSE: 2.41746\n",
      "\n",
      "Iter: 1000\n",
      "MAPE: 0.0999051\n",
      "RMSE: 2.41743\n",
      "\n",
      "Imputation MAPE: 0.099904\n",
      "Imputation RMSE: 2.41743\n",
      "\n",
      "Running time: 54.12 minutes\n"
     ]
    }
   ],
   "source": [
    "import time\n",
    "start = time.time()\n",
    "dim1, dim2 = sparse_mat.shape\n",
    "rank = 20\n",
    "init = {\"W\": 0.1 * np.random.randn(dim1, rank), \n",
    "        \"X\": 0.1 * np.random.randn(dim2, rank)}\n",
    "burn_iter = 1000\n",
    "gibbs_iter = 200\n",
    "BPMF(dense_mat, sparse_mat, init, rank, burn_iter, gibbs_iter)\n",
    "end = time.time()\n",
    "print('Running time: %.2f minutes'%((end - start) / 60.0))"
   ]
  },
  {
   "cell_type": "markdown",
   "metadata": {},
   "source": [
    "# Guangzhou 2-M data"
   ]
  },
  {
   "cell_type": "code",
   "execution_count": 20,
   "metadata": {
    "ExecuteTime": {
     "end_time": "2020-11-14T11:19:24.359654Z",
     "start_time": "2020-11-14T11:19:23.698988Z"
    }
   },
   "outputs": [],
   "source": [
    "import scipy.io\n",
    "\n",
    "tensor = scipy.io.loadmat('../datasets/Guangzhou-data-set/tensor.mat')['tensor']\n",
    "random_tensor = scipy.io.loadmat('../datasets/Guangzhou-data-set/random_tensor.mat')['random_tensor']\n",
    "dense_mat = tensor.reshape([tensor.shape[0], tensor.shape[1] * tensor.shape[2]])\n",
    "missing_rate = 0.3\n",
    "\n",
    "## Random missing (RM)\n",
    "binary_mat = (np.round(random_tensor + 0.5 - missing_rate)\n",
    "              .reshape([random_tensor.shape[0], random_tensor.shape[1] * random_tensor.shape[2]]))\n",
    "sparse_mat = np.multiply(dense_mat, binary_mat)"
   ]
  },
  {
   "cell_type": "code",
   "execution_count": 21,
   "metadata": {
    "ExecuteTime": {
     "end_time": "2020-11-14T12:34:37.480716Z",
     "start_time": "2020-11-14T11:19:27.945107Z"
    }
   },
   "outputs": [
    {
     "name": "stdout",
     "output_type": "stream",
     "text": [
      "Iter: 200\n",
      "MAPE: 0.0952559\n",
      "RMSE: 4.04604\n",
      "\n",
      "Iter: 400\n",
      "MAPE: 0.095387\n",
      "RMSE: 4.05625\n",
      "\n",
      "Iter: 600\n",
      "MAPE: 0.0954053\n",
      "RMSE: 4.05689\n",
      "\n",
      "Iter: 800\n",
      "MAPE: 0.0953832\n",
      "RMSE: 4.0564\n",
      "\n",
      "Iter: 1000\n",
      "MAPE: 0.09537\n",
      "RMSE: 4.05596\n",
      "\n",
      "Imputation MAPE: 0.0954006\n",
      "Imputation RMSE: 4.05645\n",
      "\n",
      "Running time: 75.16 minutes\n"
     ]
    }
   ],
   "source": [
    "import time\n",
    "start = time.time()\n",
    "dim1, dim2 = sparse_mat.shape\n",
    "rank = 80\n",
    "init = {\"W\": 0.1 * np.random.randn(dim1, rank), \n",
    "        \"X\": 0.1 * np.random.randn(dim2, rank)}\n",
    "burn_iter = 1000\n",
    "gibbs_iter = 200\n",
    "BPMF(dense_mat, sparse_mat, init, rank, burn_iter, gibbs_iter)\n",
    "end = time.time()\n",
    "print('Running time: %.2f minutes'%((end - start) / 60.0))"
   ]
  },
  {
   "cell_type": "code",
   "execution_count": 22,
   "metadata": {
    "ExecuteTime": {
     "end_time": "2020-11-14T12:34:37.877752Z",
     "start_time": "2020-11-14T12:34:37.482719Z"
    }
   },
   "outputs": [],
   "source": [
    "import scipy.io\n",
    "\n",
    "tensor = scipy.io.loadmat('../datasets/Guangzhou-data-set/tensor.mat')['tensor']\n",
    "random_tensor = scipy.io.loadmat('../datasets/Guangzhou-data-set/random_tensor.mat')['random_tensor']\n",
    "dense_mat = tensor.reshape([tensor.shape[0], tensor.shape[1] * tensor.shape[2]])\n",
    "missing_rate = 0.7\n",
    "\n",
    "## Random missing (RM)\n",
    "binary_mat = (np.round(random_tensor + 0.5 - missing_rate)\n",
    "              .reshape([random_tensor.shape[0], random_tensor.shape[1] * random_tensor.shape[2]]))\n",
    "sparse_mat = np.multiply(dense_mat, binary_mat)"
   ]
  },
  {
   "cell_type": "code",
   "execution_count": 23,
   "metadata": {
    "ExecuteTime": {
     "end_time": "2020-11-14T13:50:28.740533Z",
     "start_time": "2020-11-14T12:34:37.880728Z"
    }
   },
   "outputs": [
    {
     "name": "stdout",
     "output_type": "stream",
     "text": [
      "Iter: 200\n",
      "MAPE: 0.105184\n",
      "RMSE: 4.414\n",
      "\n",
      "Iter: 400\n",
      "MAPE: 0.10562\n",
      "RMSE: 4.44005\n",
      "\n",
      "Iter: 600\n",
      "MAPE: 0.105606\n",
      "RMSE: 4.43907\n",
      "\n",
      "Iter: 800\n",
      "MAPE: 0.1056\n",
      "RMSE: 4.43941\n",
      "\n",
      "Iter: 1000\n",
      "MAPE: 0.105629\n",
      "RMSE: 4.44034\n",
      "\n",
      "Imputation MAPE: 0.105597\n",
      "Imputation RMSE: 4.43939\n",
      "\n",
      "Running time: 75.85 minutes\n"
     ]
    }
   ],
   "source": [
    "import time\n",
    "start = time.time()\n",
    "dim1, dim2 = sparse_mat.shape\n",
    "rank = 80\n",
    "init = {\"W\": 0.1 * np.random.randn(dim1, rank), \n",
    "        \"X\": 0.1 * np.random.randn(dim2, rank)}\n",
    "burn_iter = 1000\n",
    "gibbs_iter = 200\n",
    "BPMF(dense_mat, sparse_mat, init, rank, burn_iter, gibbs_iter)\n",
    "end = time.time()\n",
    "print('Running time: %.2f minutes'%((end - start) / 60.0))"
   ]
  },
  {
   "cell_type": "code",
   "execution_count": 24,
   "metadata": {
    "ExecuteTime": {
     "end_time": "2020-11-14T13:50:29.006531Z",
     "start_time": "2020-11-14T13:50:28.742535Z"
    }
   },
   "outputs": [],
   "source": [
    "import scipy.io\n",
    "\n",
    "tensor = scipy.io.loadmat('../datasets/Guangzhou-data-set/tensor.mat')['tensor']\n",
    "random_matrix = scipy.io.loadmat('../datasets/Guangzhou-data-set/random_matrix.mat')['random_matrix']\n",
    "dense_mat = tensor.reshape([tensor.shape[0], tensor.shape[1] * tensor.shape[2]])\n",
    "missing_rate = 0.3\n",
    "\n",
    "## Non-random missing (NM)\n",
    "binary_tensor = np.zeros(tensor.shape)\n",
    "for i1 in range(tensor.shape[0]):\n",
    "    for i2 in range(tensor.shape[1]):\n",
    "        binary_tensor[i1, i2, :] = np.round(random_matrix[i1, i2] + 0.5 - missing_rate)\n",
    "binary_mat = binary_tensor.reshape([binary_tensor.shape[0], binary_tensor.shape[1] * binary_tensor.shape[2]])\n",
    "sparse_mat = np.multiply(dense_mat, binary_mat)"
   ]
  },
  {
   "cell_type": "code",
   "execution_count": 25,
   "metadata": {
    "ExecuteTime": {
     "end_time": "2020-11-14T13:58:17.816915Z",
     "start_time": "2020-11-14T13:50:29.008534Z"
    }
   },
   "outputs": [
    {
     "name": "stdout",
     "output_type": "stream",
     "text": [
      "Iter: 200\n",
      "MAPE: 0.102993\n",
      "RMSE: 4.33674\n",
      "\n",
      "Iter: 400\n",
      "MAPE: 0.103039\n",
      "RMSE: 4.34403\n",
      "\n",
      "Iter: 600\n",
      "MAPE: 0.103041\n",
      "RMSE: 4.34394\n",
      "\n",
      "Iter: 800\n",
      "MAPE: 0.103038\n",
      "RMSE: 4.34421\n",
      "\n",
      "Iter: 1000\n",
      "MAPE: 0.103048\n",
      "RMSE: 4.34422\n",
      "\n",
      "Imputation MAPE: 0.103043\n",
      "Imputation RMSE: 4.34438\n",
      "\n",
      "Running time: 7.81 minutes\n"
     ]
    }
   ],
   "source": [
    "import time\n",
    "start = time.time()\n",
    "dim1, dim2 = sparse_mat.shape\n",
    "rank = 10\n",
    "init = {\"W\": 0.1 * np.random.randn(dim1, rank), \n",
    "        \"X\": 0.1 * np.random.randn(dim2, rank)}\n",
    "burn_iter = 1000\n",
    "gibbs_iter = 200\n",
    "BPMF(dense_mat, sparse_mat, init, rank, burn_iter, gibbs_iter)\n",
    "end = time.time()\n",
    "print('Running time: %.2f minutes'%((end - start) / 60.0))"
   ]
  },
  {
   "cell_type": "code",
   "execution_count": 26,
   "metadata": {
    "ExecuteTime": {
     "end_time": "2020-11-14T13:58:18.068914Z",
     "start_time": "2020-11-14T13:58:17.818927Z"
    }
   },
   "outputs": [],
   "source": [
    "import scipy.io\n",
    "\n",
    "tensor = scipy.io.loadmat('../datasets/Guangzhou-data-set/tensor.mat')['tensor']\n",
    "random_matrix = scipy.io.loadmat('../datasets/Guangzhou-data-set/random_matrix.mat')['random_matrix']\n",
    "dense_mat = tensor.reshape([tensor.shape[0], tensor.shape[1] * tensor.shape[2]])\n",
    "missing_rate = 0.7\n",
    "\n",
    "## Non-random missing (NM)\n",
    "binary_tensor = np.zeros(tensor.shape)\n",
    "for i1 in range(tensor.shape[0]):\n",
    "    for i2 in range(tensor.shape[1]):\n",
    "        binary_tensor[i1, i2, :] = np.round(random_matrix[i1, i2] + 0.5 - missing_rate)\n",
    "binary_mat = binary_tensor.reshape([binary_tensor.shape[0], binary_tensor.shape[1] * binary_tensor.shape[2]])\n",
    "sparse_mat = np.multiply(dense_mat, binary_mat)"
   ]
  },
  {
   "cell_type": "code",
   "execution_count": 27,
   "metadata": {
    "ExecuteTime": {
     "end_time": "2020-11-14T14:06:04.912823Z",
     "start_time": "2020-11-14T13:58:18.071918Z"
    }
   },
   "outputs": [
    {
     "name": "stdout",
     "output_type": "stream",
     "text": [
      "Iter: 200\n",
      "MAPE: 0.112633\n",
      "RMSE: 4.70933\n",
      "\n",
      "Iter: 400\n",
      "MAPE: 0.112978\n",
      "RMSE: 4.73468\n",
      "\n",
      "Iter: 600\n",
      "MAPE: 0.113305\n",
      "RMSE: 4.75515\n",
      "\n",
      "Iter: 800\n",
      "MAPE: 0.113285\n",
      "RMSE: 4.75474\n",
      "\n",
      "Iter: 1000\n",
      "MAPE: 0.113298\n",
      "RMSE: 4.75618\n",
      "\n",
      "Imputation MAPE: 0.113257\n",
      "Imputation RMSE: 4.75376\n",
      "\n",
      "Running time: 7.78 minutes\n"
     ]
    }
   ],
   "source": [
    "import time\n",
    "start = time.time()\n",
    "dim1, dim2 = sparse_mat.shape\n",
    "rank = 10\n",
    "init = {\"W\": 0.1 * np.random.randn(dim1, rank), \n",
    "        \"X\": 0.1 * np.random.randn(dim2, rank)}\n",
    "burn_iter = 1000\n",
    "gibbs_iter = 200\n",
    "BPMF(dense_mat, sparse_mat, init, rank, burn_iter, gibbs_iter)\n",
    "end = time.time()\n",
    "print('Running time: %.2f minutes'%((end - start) / 60.0))"
   ]
  },
  {
   "cell_type": "markdown",
   "metadata": {},
   "source": [
    "### License\n",
    "\n",
    "<div class=\"alert alert-block alert-danger\">\n",
    "<b>This work is released under the MIT license.</b>\n",
    "</div>"
   ]
  }
 ],
 "metadata": {
  "kernelspec": {
   "display_name": "Python 3",
   "language": "python",
   "name": "python3"
  },
  "language_info": {
   "codemirror_mode": {
    "name": "ipython",
    "version": 3
   },
   "file_extension": ".py",
   "mimetype": "text/x-python",
   "name": "python",
   "nbconvert_exporter": "python",
   "pygments_lexer": "ipython3",
   "version": "3.7.6"
  },
  "toc": {
   "base_numbering": 1,
   "nav_menu": {},
   "number_sections": true,
   "sideBar": true,
   "skip_h1_title": false,
   "title_cell": "Table of Contents",
   "title_sidebar": "Contents",
   "toc_cell": false,
   "toc_position": {},
   "toc_section_display": true,
   "toc_window_display": false
  }
 },
 "nbformat": 4,
 "nbformat_minor": 4
}
